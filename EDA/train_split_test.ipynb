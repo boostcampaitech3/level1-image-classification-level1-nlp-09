{
 "cells": [
  {
   "cell_type": "code",
   "execution_count": 1,
   "id": "b0d75593-7d43-4a50-bd4a-5e6133dfefd2",
   "metadata": {},
   "outputs": [],
   "source": [
    "### Data보기\n",
    "%matplotlib inline\n",
    "# python libraties\n",
    "import os, itertools, cv2\n",
    "import matplotlib.pyplot as plt\n",
    "import numpy as np\n",
    "import pandas as pd\n",
    "from tqdm import tqdm\n",
    "from glob import glob\n",
    "from PIL import Image\n",
    "import cv2"
   ]
  },
  {
   "cell_type": "code",
   "execution_count": 2,
   "id": "55d96a75-e136-445d-b033-305973337aa6",
   "metadata": {},
   "outputs": [],
   "source": [
    "data_path = '../input/data'\n",
    "train_data_path = glob(os.path.join(data_path,'train','images','*','*'))\n",
    "val_data_path = glob(os.path.join(data_path,'eval','images','*'))"
   ]
  },
  {
   "cell_type": "code",
   "execution_count": 3,
   "id": "d0d3a9e0-0621-42a5-ab7e-21ccdcbc50e6",
   "metadata": {},
   "outputs": [],
   "source": [
    "train_data_path = sorted(train_data_path)\n",
    "TRUE_LABELS = ['wear-M-30', 'wear-M-3060','wear-M-60',\n",
    "                   'wear-F-30', 'wear-F-3060','wear-F-60',\n",
    "                   'incor-M-30', 'incor-M-3060','incor-M-60',\n",
    "                   'incor-F-30', 'incor-F-3060','incor-F-60',\n",
    "                   'not_wear-M-30', 'not_wear-M-3060', 'not_wear-M-60',\n",
    "                   'not_wear-F-30', 'not_wear-F-3060', 'not_wear-F-60'\n",
    "                   ]"
   ]
  },
  {
   "cell_type": "code",
   "execution_count": 4,
   "id": "4bbc0bc5-3c62-4e94-8075-393d9b07ac2d",
   "metadata": {},
   "outputs": [
    {
     "name": "stdout",
     "output_type": "stream",
     "text": [
      "num of directory 2700\n",
      "num of file 18900\n",
      "defaultdict(<class 'int'>, {'jpg': 18035, 'png': 511, 'jpeg': 354})\n"
     ]
    }
   ],
   "source": [
    "from collections import defaultdict\n",
    "# train_data_dir = sorted(glob(os.path.join(data_path,'train','images','*')))\n",
    "train_data_dir = glob(os.path.join(data_path,'train','images','*'))\n",
    "print('num of directory',len(train_data_dir))\n",
    "print('num of file',len(train_data_path))\n",
    "num_ext = defaultdict(int)\n",
    "for file in train_data_path:\n",
    "    ext = file.split('.')[-1]\n",
    "    if ext not in num_ext.keys():\n",
    "        num_ext[ext]+=1\n",
    "    else:\n",
    "        num_ext[ext]+=1\n",
    "print(num_ext)"
   ]
  },
  {
   "cell_type": "code",
   "execution_count": 5,
   "id": "b3396c85-b162-4ed0-b42c-43df70c9ec19",
   "metadata": {},
   "outputs": [
    {
     "data": {
      "text/html": [
       "<div>\n",
       "<style scoped>\n",
       "    .dataframe tbody tr th:only-of-type {\n",
       "        vertical-align: middle;\n",
       "    }\n",
       "\n",
       "    .dataframe tbody tr th {\n",
       "        vertical-align: top;\n",
       "    }\n",
       "\n",
       "    .dataframe thead th {\n",
       "        text-align: right;\n",
       "    }\n",
       "</style>\n",
       "<table border=\"1\" class=\"dataframe\">\n",
       "  <thead>\n",
       "    <tr style=\"text-align: right;\">\n",
       "      <th></th>\n",
       "      <th>id</th>\n",
       "      <th>gender</th>\n",
       "      <th>race</th>\n",
       "      <th>age</th>\n",
       "      <th>mask</th>\n",
       "      <th>path</th>\n",
       "      <th>dir</th>\n",
       "    </tr>\n",
       "  </thead>\n",
       "  <tbody>\n",
       "    <tr>\n",
       "      <th>0</th>\n",
       "      <td>000001</td>\n",
       "      <td>female</td>\n",
       "      <td>Asian</td>\n",
       "      <td>45</td>\n",
       "      <td>wear</td>\n",
       "      <td>../input/data/train/images/000001_female_Asian...</td>\n",
       "      <td>000001_female_Asian_45</td>\n",
       "    </tr>\n",
       "    <tr>\n",
       "      <th>1</th>\n",
       "      <td>000001</td>\n",
       "      <td>female</td>\n",
       "      <td>Asian</td>\n",
       "      <td>45</td>\n",
       "      <td>wear</td>\n",
       "      <td>../input/data/train/images/000001_female_Asian...</td>\n",
       "      <td>000001_female_Asian_45</td>\n",
       "    </tr>\n",
       "    <tr>\n",
       "      <th>2</th>\n",
       "      <td>000001</td>\n",
       "      <td>female</td>\n",
       "      <td>Asian</td>\n",
       "      <td>45</td>\n",
       "      <td>not_wear</td>\n",
       "      <td>../input/data/train/images/000001_female_Asian...</td>\n",
       "      <td>000001_female_Asian_45</td>\n",
       "    </tr>\n",
       "    <tr>\n",
       "      <th>3</th>\n",
       "      <td>000001</td>\n",
       "      <td>female</td>\n",
       "      <td>Asian</td>\n",
       "      <td>45</td>\n",
       "      <td>incorrect</td>\n",
       "      <td>../input/data/train/images/000001_female_Asian...</td>\n",
       "      <td>000001_female_Asian_45</td>\n",
       "    </tr>\n",
       "    <tr>\n",
       "      <th>4</th>\n",
       "      <td>000001</td>\n",
       "      <td>female</td>\n",
       "      <td>Asian</td>\n",
       "      <td>45</td>\n",
       "      <td>wear</td>\n",
       "      <td>../input/data/train/images/000001_female_Asian...</td>\n",
       "      <td>000001_female_Asian_45</td>\n",
       "    </tr>\n",
       "    <tr>\n",
       "      <th>...</th>\n",
       "      <td>...</td>\n",
       "      <td>...</td>\n",
       "      <td>...</td>\n",
       "      <td>...</td>\n",
       "      <td>...</td>\n",
       "      <td>...</td>\n",
       "      <td>...</td>\n",
       "    </tr>\n",
       "    <tr>\n",
       "      <th>18895</th>\n",
       "      <td>006959</td>\n",
       "      <td>male</td>\n",
       "      <td>Asian</td>\n",
       "      <td>19</td>\n",
       "      <td>not_wear</td>\n",
       "      <td>../input/data/train/images/006959_male_Asian_1...</td>\n",
       "      <td>006959_male_Asian_19</td>\n",
       "    </tr>\n",
       "    <tr>\n",
       "      <th>18896</th>\n",
       "      <td>006959</td>\n",
       "      <td>male</td>\n",
       "      <td>Asian</td>\n",
       "      <td>19</td>\n",
       "      <td>incorrect</td>\n",
       "      <td>../input/data/train/images/006959_male_Asian_1...</td>\n",
       "      <td>006959_male_Asian_19</td>\n",
       "    </tr>\n",
       "    <tr>\n",
       "      <th>18897</th>\n",
       "      <td>006959</td>\n",
       "      <td>male</td>\n",
       "      <td>Asian</td>\n",
       "      <td>19</td>\n",
       "      <td>wear</td>\n",
       "      <td>../input/data/train/images/006959_male_Asian_1...</td>\n",
       "      <td>006959_male_Asian_19</td>\n",
       "    </tr>\n",
       "    <tr>\n",
       "      <th>18898</th>\n",
       "      <td>006959</td>\n",
       "      <td>male</td>\n",
       "      <td>Asian</td>\n",
       "      <td>19</td>\n",
       "      <td>wear</td>\n",
       "      <td>../input/data/train/images/006959_male_Asian_1...</td>\n",
       "      <td>006959_male_Asian_19</td>\n",
       "    </tr>\n",
       "    <tr>\n",
       "      <th>18899</th>\n",
       "      <td>006959</td>\n",
       "      <td>male</td>\n",
       "      <td>Asian</td>\n",
       "      <td>19</td>\n",
       "      <td>wear</td>\n",
       "      <td>../input/data/train/images/006959_male_Asian_1...</td>\n",
       "      <td>006959_male_Asian_19</td>\n",
       "    </tr>\n",
       "  </tbody>\n",
       "</table>\n",
       "<p>18900 rows × 7 columns</p>\n",
       "</div>"
      ],
      "text/plain": [
       "           id  gender   race  age       mask  \\\n",
       "0      000001  female  Asian   45       wear   \n",
       "1      000001  female  Asian   45       wear   \n",
       "2      000001  female  Asian   45   not_wear   \n",
       "3      000001  female  Asian   45  incorrect   \n",
       "4      000001  female  Asian   45       wear   \n",
       "...       ...     ...    ...  ...        ...   \n",
       "18895  006959    male  Asian   19   not_wear   \n",
       "18896  006959    male  Asian   19  incorrect   \n",
       "18897  006959    male  Asian   19       wear   \n",
       "18898  006959    male  Asian   19       wear   \n",
       "18899  006959    male  Asian   19       wear   \n",
       "\n",
       "                                                    path  \\\n",
       "0      ../input/data/train/images/000001_female_Asian...   \n",
       "1      ../input/data/train/images/000001_female_Asian...   \n",
       "2      ../input/data/train/images/000001_female_Asian...   \n",
       "3      ../input/data/train/images/000001_female_Asian...   \n",
       "4      ../input/data/train/images/000001_female_Asian...   \n",
       "...                                                  ...   \n",
       "18895  ../input/data/train/images/006959_male_Asian_1...   \n",
       "18896  ../input/data/train/images/006959_male_Asian_1...   \n",
       "18897  ../input/data/train/images/006959_male_Asian_1...   \n",
       "18898  ../input/data/train/images/006959_male_Asian_1...   \n",
       "18899  ../input/data/train/images/006959_male_Asian_1...   \n",
       "\n",
       "                          dir  \n",
       "0      000001_female_Asian_45  \n",
       "1      000001_female_Asian_45  \n",
       "2      000001_female_Asian_45  \n",
       "3      000001_female_Asian_45  \n",
       "4      000001_female_Asian_45  \n",
       "...                       ...  \n",
       "18895    006959_male_Asian_19  \n",
       "18896    006959_male_Asian_19  \n",
       "18897    006959_male_Asian_19  \n",
       "18898    006959_male_Asian_19  \n",
       "18899    006959_male_Asian_19  \n",
       "\n",
       "[18900 rows x 7 columns]"
      ]
     },
     "execution_count": 5,
     "metadata": {},
     "output_type": "execute_result"
    }
   ],
   "source": [
    "df_train = pd.read_csv(os.path.join(data_path, 'train', 'train.csv'))\n",
    "new_dict = {'id':[],\n",
    "            'gender':[],\n",
    "            'race':[],\n",
    "            'age':[],\n",
    "            'mask':[],\n",
    "            'path':[],\n",
    "           'dir':[]}\n",
    "data_path = '../input/data'\n",
    "for idx, df_train_data in enumerate(df_train.iterrows()):\n",
    "    data_dir = glob(os.path.join(data_path,'train','images',df_train_data[1].path,'*'))\n",
    "    for data_file in data_dir:\n",
    "        if 'incorrect' in os.path.basename(data_file):\n",
    "            new_dict['mask'].append('incorrect')\n",
    "        elif 'normal' in os.path.basename(data_file):\n",
    "            new_dict['mask'].append('not_wear')\n",
    "        else:\n",
    "            new_dict['mask'].append('wear')\n",
    "        new_dict['id'].append(df_train_data[1].id)\n",
    "        new_dict['gender'].append(df_train_data[1].gender)\n",
    "        new_dict['race'].append(df_train_data[1].race)\n",
    "        new_dict['age'].append(df_train_data[1].age)\n",
    "        new_dict['path'].append(data_file)\n",
    "        new_dict['dir'].append(df_train_data[1].path)\n",
    "\n",
    "new_train_df = pd.DataFrame(new_dict)\n",
    "new_train_df"
   ]
  },
  {
   "cell_type": "code",
   "execution_count": 6,
   "id": "74157b48-c9fe-4113-9f29-6451d5afe08d",
   "metadata": {},
   "outputs": [],
   "source": [
    "file_nums = np.random.choice(len(new_train_df), 10000)\n",
    "# # print(file_nums)\n",
    "# cnt = 0\n",
    "# for i in file_nums:\n",
    "#     info = new_train_df.iloc[i]\n",
    "#     file_path = info['path']\n",
    "#     if info['age']>=29 and info['age']<31:\n",
    "#         cnt += 1\n",
    "#         labels = f\"{info['gender']}_{info['race']}_{info['age']}\"\n",
    "#         img = cv2.imread(file_path)\n",
    "#         img = cv2.cvtColor(img, cv2.COLOR_BGR2RGB)\n",
    "#         plt.imshow(img)\n",
    "#         print(file_path)\n",
    "#         plt.title(f'{file_path}_{labels}')\n",
    "#         plt.show()\n",
    "#     if cnt ==20:\n",
    "#         break"
   ]
  },
  {
   "cell_type": "code",
   "execution_count": 7,
   "id": "c7668ece-205c-435c-a1fd-129aee362c8e",
   "metadata": {},
   "outputs": [
    {
     "name": "stdout",
     "output_type": "stream",
     "text": [
      "female\n"
     ]
    }
   ],
   "source": [
    "print(f'{new_train_df.iloc[0][\"gender\"]}')"
   ]
  },
  {
   "cell_type": "code",
   "execution_count": 8,
   "id": "f042d551-8b11-4526-a86e-cf971d301b10",
   "metadata": {},
   "outputs": [],
   "source": [
    "from enum import Enum\n",
    "from torch.utils.data import Dataset\n",
    "import random\n",
    "class MaskLabels(int, Enum):\n",
    "    MASK = 0\n",
    "    INCORRECT = 1\n",
    "    NORMAL = 2\n",
    "\n",
    "\n",
    "class GenderLabels(int, Enum):\n",
    "    MALE = 0\n",
    "    FEMALE = 1\n",
    "\n",
    "    @classmethod\n",
    "    def from_str(cls, value: str) -> int:\n",
    "        value = value.lower()\n",
    "        if value == \"male\":\n",
    "            return cls.MALE\n",
    "        elif value == \"female\":\n",
    "            return cls.FEMALE\n",
    "        else:\n",
    "            raise ValueError(f\"Gender value should be either 'male' or 'female', {value}\")\n",
    "\n",
    "\n",
    "class AgeLabels(int, Enum):\n",
    "    YOUNG = 0\n",
    "    MIDDLE = 1\n",
    "    OLD = 2\n",
    "\n",
    "    @classmethod\n",
    "    def from_number(cls, value: str) -> int:\n",
    "        try:\n",
    "            value = int(value)\n",
    "        except Exception:\n",
    "            raise ValueError(f\"Age value should be numeric, {value}\")\n",
    "\n",
    "        if value < 30:\n",
    "            return cls.YOUNG\n",
    "        elif value < 60:\n",
    "            return cls.MIDDLE\n",
    "        else:\n",
    "            return cls.OLD\n",
    "        \n",
    "class MaskSplitByProfileDataset(Dataset):\n",
    "    \n",
    "    _file_names = {\n",
    "        \"mask1\": MaskLabels.MASK,\n",
    "        \"mask2\": MaskLabels.MASK,\n",
    "        \"mask3\": MaskLabels.MASK,\n",
    "        \"mask4\": MaskLabels.MASK,\n",
    "        \"mask5\": MaskLabels.MASK,\n",
    "        \"incorrect_mask\": MaskLabels.INCORRECT,\n",
    "        \"normal\": MaskLabels.NORMAL\n",
    "    }\n",
    "\n",
    "    image_paths = []\n",
    "    mask_labels = []\n",
    "    gender_labels = []\n",
    "    age_labels = []\n",
    "    \n",
    "    def __init__(self, data_dir, val_ratio=0.2):\n",
    "        self.indices = defaultdict(list)\n",
    "        self.data_dir = data_dir\n",
    "#         self.setup_basic()\n",
    "        self.val_ratio = val_ratio\n",
    "    @staticmethod\n",
    "    def _split_profile(profiles, val_ratio):\n",
    "        length = len(profiles)\n",
    "        n_val = int(length * val_ratio)\n",
    "\n",
    "        val_indices = set(random.choices(range(length), k=n_val))\n",
    "        train_indices = set(range(length)) - val_indices\n",
    "        return {\n",
    "            \"train\": train_indices,\n",
    "            \"val\": val_indices\n",
    "        }\n",
    "    \n",
    "    def setup_basic(self):\n",
    "        profiles = os.listdir(self.data_dir)\n",
    "        for profile in profiles:\n",
    "            if profile.startswith(\".\"):  # \".\" 로 시작하는 파일은 무시합니다\n",
    "                continue\n",
    "\n",
    "            img_folder = os.path.join(self.data_dir, profile)\n",
    "            for file_name in os.listdir(img_folder):\n",
    "                _file_name, ext = os.path.splitext(file_name)\n",
    "                if _file_name not in self._file_names:  # \".\" 로 시작하는 파일 및 invalid 한 파일들은 무시합니다\n",
    "                    continue\n",
    "\n",
    "                img_path = os.path.join(self.data_dir, profile, file_name)  # (resized_data, 000004_male_Asian_54, mask1.jpg)\n",
    "\n",
    "                mask_label = self._file_names[_file_name]\n",
    "\n",
    "                id, gender, race, age = profile.split(\"_\")\n",
    "                gender_label = GenderLabels.from_str(gender)\n",
    "                age_label = AgeLabels.from_number(age)\n",
    "\n",
    "                self.image_paths.append(img_path)\n",
    "                self.mask_labels.append(mask_label)\n",
    "                self.gender_labels.append(gender_label)\n",
    "                self.age_labels.append(age_label)\n",
    "                \n",
    "    def setup(self):\n",
    "        profiles = os.listdir(self.data_dir)\n",
    "        profiles = [profile for profile in profiles if not profile.startswith(\".\")]\n",
    "        split_profiles = self._split_profile(profiles, self.val_ratio)\n",
    "\n",
    "        cnt = 0\n",
    "        for phase, indices in split_profiles.items():\n",
    "            for _idx in indices:\n",
    "                profile = profiles[_idx]\n",
    "                img_folder = os.path.join(self.data_dir, profile)\n",
    "                for file_name in os.listdir(img_folder):\n",
    "                    _file_name, ext = os.path.splitext(file_name)\n",
    "                    if _file_name not in self._file_names:  # \".\" 로 시작하는 파일 및 invalid 한 파일들은 무시합니다\n",
    "                        continue\n",
    "\n",
    "                    img_path = os.path.join(self.data_dir, profile, file_name)  # (resized_data, 000004_male_Asian_54, mask1.jpg)\n",
    "                    mask_label = self._file_names[_file_name]\n",
    "                    \n",
    "                    id, gender, race, age = profile.split(\"_\")\n",
    "                    gender_label = GenderLabels.from_str(gender)\n",
    "                    age_label = AgeLabels.from_number(age)\n",
    "\n",
    "                    self.image_paths.append(img_path)\n",
    "                    self.mask_labels.append(mask_label)\n",
    "                    self.gender_labels.append(gender_label)\n",
    "                    self.age_labels.append(age_label)\n",
    "\n",
    "                    self.indices[phase].append(cnt)\n",
    "                    cnt += 1\n"
   ]
  },
  {
   "cell_type": "code",
   "execution_count": 9,
   "id": "66de0ec2-edf3-4306-b870-a8d2e61a9c73",
   "metadata": {},
   "outputs": [
    {
     "name": "stdout",
     "output_type": "stream",
     "text": [
      "18900\n",
      "18900\n",
      "18900\n"
     ]
    }
   ],
   "source": [
    "train_dataset = MaskSplitByProfileDataset(\n",
    "        data_dir='/opt/ml/input/data/train/images',\n",
    "    )\n",
    "train_dataset.setup()\n",
    "print(len(train_dataset.age_labels))\n",
    "print(len(train_dataset.gender_labels))\n",
    "print(len(train_dataset.image_paths))"
   ]
  },
  {
   "cell_type": "code",
   "execution_count": 10,
   "id": "bf3943fc-5510-48e9-abb2-7ef0005a2adb",
   "metadata": {},
   "outputs": [
    {
     "data": {
      "text/plain": [
       "15463"
      ]
     },
     "execution_count": 10,
     "metadata": {},
     "output_type": "execute_result"
    }
   ],
   "source": [
    "len(train_dataset.indices['train'])"
   ]
  },
  {
   "cell_type": "code",
   "execution_count": 11,
   "id": "9e930a98-20b5-4ae4-9b83-3d076f3bc726",
   "metadata": {},
   "outputs": [
    {
     "data": {
      "text/plain": [
       "3437"
      ]
     },
     "execution_count": 11,
     "metadata": {},
     "output_type": "execute_result"
    }
   ],
   "source": [
    "len(train_dataset.indices['val'])"
   ]
  },
  {
   "cell_type": "code",
   "execution_count": 12,
   "id": "5f493318-2992-4c2e-a601-08b8215a9949",
   "metadata": {},
   "outputs": [],
   "source": [
    "from collections import defaultdict\n",
    "def group_age(nums):\n",
    "    if nums<30:\n",
    "        return 30\n",
    "    elif nums>=30 and nums<60:\n",
    "        return 3060\n",
    "    else:\n",
    "        return 60\n",
    "\n",
    "def filter_mask(states):\n",
    "    if 'incorrect' in states:\n",
    "        return 'incor'\n",
    "    elif 'normal' in states:\n",
    "        return 'not_wear'\n",
    "    else:\n",
    "        return 'wear'\n",
    "\n",
    "def filter_gender(states):\n",
    "    if 'female' in states:\n",
    "        return 'F'\n",
    "    else:\n",
    "        return 'M'\n",
    "\n",
    "#     {'wear-M-30': 0, 'wear-M-3060': 1, 'wear-M-60': 2, 'wear-F-30': 3, 'wear-F-3060': 4, 'wear-F-60': 5, 'incor-M-30': 6, 'incor-M-3060': 7, 'incor-M-60': 8, 'incor-F-30': 9, 'incor-F-3060': 10, 'incor-F-60': 11, 'not_wear-M-30': 12, 'not_wear-M-3060': 13, 'not_wear-M-60': 14, 'not_wear-F-30': 15, 'not_wear-F-3060': 16, 'not_wear-F-60': 17}\n",
    "# dict_keys(['wear_0_female', 'wear_1_female', 'not_wear_1_female', 'wear_0_male', 'incorrect_1_female', 'not_wear_0_male', 'wear_1_male', 'not_wear_0_female', 'incorrect_0_female', 'incorrect_0_male', 'incorrect_\n",
    "def data_dist(indices):\n",
    "   \n",
    "    mask_dict = defaultdict(int)\n",
    "    age_dict = defaultdict(int)\n",
    "    age_group_dict = defaultdict(int)\n",
    "    gender_dict = defaultdict(int)\n",
    "    class_dict = defaultdict(int)\n",
    "    print(len(indices))\n",
    "    for file_path in indices:\n",
    "        mask_file = file_path.split('/')[-1]\n",
    "        info_file = file_path.split('/')[-2]\n",
    "        \n",
    "        _, gender, race, age = info_file.split('_')\n",
    "        \n",
    "        mask_dict[filter_mask(mask_file.split('.')[0])] += 1\n",
    "        age_dict[age] += 1\n",
    "        gender_dict[gender] += 1\n",
    "        age_group_dict[group_age(int(age))] +=1 \n",
    "        labels = f\"{filter_mask(mask_file.split('.')[0])}-{filter_gender(gender)}-{group_age(int(age))}\"\n",
    "        class_dict[labels] += 1\n",
    "    return mask_dict, age_dict,age_group_dict, gender_dict, class_dict"
   ]
  },
  {
   "cell_type": "code",
   "execution_count": 13,
   "id": "b01af0ce-9a54-4fd9-9003-283d480fa36c",
   "metadata": {},
   "outputs": [
    {
     "name": "stdout",
     "output_type": "stream",
     "text": [
      "18900\n",
      "18900\n",
      "18900\n",
      "18900\n",
      "18900\n",
      "18900\n"
     ]
    },
    {
     "data": {
      "image/png": "[encoded data removed]",
      "text/plain": [
       "<Figure size 432x288 with 1 Axes>"
      ]
     },
     "metadata": {
      "needs_background": "light"
     },
     "output_type": "display_data"
    }
   ],
   "source": [
    "import random\n",
    "random.shuffle(train_dataset.image_paths)\n",
    "mask_dict, age_dict,age_group_dict, gender_dict, class_dict = data_dist(train_dataset.image_paths)\n",
    "# for idx in train_dataset.indices['val']:\n",
    "#     print(train_dataset.image_paths[idx])\n",
    "print(sum(mask_dict.values()))\n",
    "print(sum(age_dict.values()))\n",
    "print(sum(age_group_dict.values()))\n",
    "print(sum(gender_dict.values()))\n",
    "print(sum(class_dict.values()))\n",
    "\n",
    "\n",
    "## Class\n",
    "plt.bar(range(len(class_dict)), list(class_dict.values()), align='center')\n",
    "plt.xticks(range(len(class_dict)), list(class_dict.keys()))\n",
    "# # for python 2.x:\n",
    "# plt.bar(range(len(D)), D.values(), align='center')  # python 2.x\n",
    "# plt.xticks(range(len(D)), D.keys())  # in python 2.x\n",
    "plt.title('Class')\n",
    "plt.show()\n"
   ]
  },
  {
   "cell_type": "code",
   "execution_count": 14,
   "id": "4cd07b61-fe10-49de-b0d8-2283fef4b836",
   "metadata": {},
   "outputs": [
    {
     "name": "stdout",
     "output_type": "stream",
     "text": [
      "18900\n"
     ]
    },
    {
     "data": {
      "image/png": "[encoded data removed]",
      "text/plain": [
       "<Figure size 432x288 with 1 Axes>"
      ]
     },
     "metadata": {
      "needs_background": "light"
     },
     "output_type": "display_data"
    }
   ],
   "source": [
    "import random\n",
    "random.shuffle(train_dataset.image_paths)\n",
    "# 이름이 바뀌네\n",
    "mask_dict, age_dict,age_group_dict, gender_dict, class_dict = data_dist(train_dataset.image_paths)\n",
    "## Class\n",
    "plt.bar(range(len(class_dict)), list(class_dict.values()), align='center')\n",
    "plt.xticks(range(len(class_dict)), list(class_dict.keys()))\n",
    "# # for python 2.x:\n",
    "# plt.bar(range(len(D)), D.values(), align='center')  # python 2.x\n",
    "# plt.xticks(range(len(D)), D.keys())  # in python 2.x\n",
    "plt.title('Class')\n",
    "plt.show()"
   ]
  },
  {
   "cell_type": "code",
   "execution_count": 15,
   "id": "3e38759a-568e-48a9-9292-1e9f5e1eefdb",
   "metadata": {},
   "outputs": [
    {
     "data": {
      "image/png": "[encoded data removed]",
      "text/plain": [
       "<Figure size 432x288 with 1 Axes>"
      ]
     },
     "metadata": {
      "needs_background": "light"
     },
     "output_type": "display_data"
    },
    {
     "data": {
      "image/png": "[encoded data removed]",
      "text/plain": [
       "<Figure size 432x288 with 1 Axes>"
      ]
     },
     "metadata": {
      "needs_background": "light"
     },
     "output_type": "display_data"
    },
    {
     "data": {
      "image/png": "[encoded data removed]",
      "text/plain": [
       "<Figure size 432x288 with 1 Axes>"
      ]
     },
     "metadata": {
      "needs_background": "light"
     },
     "output_type": "display_data"
    },
    {
     "data": {
      "image/png": "[encoded data removed]",
      "text/plain": [
       "<Figure size 432x288 with 1 Axes>"
      ]
     },
     "metadata": {
      "needs_background": "light"
     },
     "output_type": "display_data"
    },
    {
     "data": {
      "image/png": "[encoded data removed]",
      "text/plain": [
       "<Figure size 432x288 with 1 Axes>"
      ]
     },
     "metadata": {
      "needs_background": "light"
     },
     "output_type": "display_data"
    }
   ],
   "source": [
    "# Total train plot\n",
    "\n",
    "## MASK\n",
    "plt.bar(range(len(mask_dict)), list(mask_dict.values()), align='center')\n",
    "plt.xticks(range(len(mask_dict)), list(mask_dict.keys()))\n",
    "# # for python 2.x:\n",
    "# plt.bar(range(len(D)), D.values(), align='center')  # python 2.x\n",
    "# plt.xticks(range(len(D)), D.keys())  # in python 2.x\n",
    "plt.title('Mask')\n",
    "plt.show()\n",
    "\n",
    "## AGE\n",
    "plt.bar(range(len(age_dict)), list(age_dict.values()), align='center')\n",
    "plt.xticks(range(len(age_dict)), list(age_dict.keys()))\n",
    "# # for python 2.x:\n",
    "# plt.bar(range(len(D)), D.values(), align='center')  # python 2.x\n",
    "# plt.xticks(range(len(D)), D.keys())  # in python 2.x\n",
    "plt.title('Age')\n",
    "plt.show()\n",
    "\n",
    "## AGE GROUP\n",
    "plt.bar(range(len(age_group_dict)), list(age_group_dict.values()), align='center')\n",
    "plt.xticks(range(len(age_group_dict)), list(age_group_dict.keys()))\n",
    "# # for python 2.x:\n",
    "# plt.bar(range(len(D)), D.values(), align='center')  # python 2.x\n",
    "# plt.xticks(range(len(D)), D.keys())  # in python 2.x\n",
    "plt.title('Age Group')\n",
    "plt.show()\n",
    "\n",
    "## Gender\n",
    "plt.bar(range(len(gender_dict)), list(gender_dict.values()), align='center')\n",
    "plt.xticks(range(len(gender_dict)), list(gender_dict.keys()))\n",
    "# # for python 2.x:\n",
    "# plt.bar(range(len(D)), D.values(), align='center')  # python 2.x\n",
    "# plt.xticks(range(len(D)), D.keys())  # in python 2.x\n",
    "plt.title('Gender')\n",
    "plt.show()\n",
    "\n",
    "## Class\n",
    "plt.bar(range(len(class_dict)), list(class_dict.values()), align='center')\n",
    "plt.xticks(range(len(class_dict)), list(class_dict.keys()))\n",
    "# # for python 2.x:\n",
    "# plt.bar(range(len(D)), D.values(), align='center')  # python 2.x\n",
    "# plt.xticks(range(len(D)), D.keys())  # in python 2.x\n",
    "plt.title('Class')\n",
    "plt.show()\n",
    "\n",
    "plt.show()"
   ]
  },
  {
   "cell_type": "code",
   "execution_count": 16,
   "id": "b4dd4564-0c06-45aa-b3cb-f2c87c5e6b55",
   "metadata": {},
   "outputs": [
    {
     "data": {
      "text/plain": [
       "defaultdict(int, {'not_wear': 2700, 'wear': 13500, 'incor': 2700})"
      ]
     },
     "execution_count": 16,
     "metadata": {},
     "output_type": "execute_result"
    }
   ],
   "source": [
    "mask_dict"
   ]
  },
  {
   "cell_type": "code",
   "execution_count": 17,
   "id": "489c1823-84d5-4adf-900b-ad6fe621d433",
   "metadata": {},
   "outputs": [
    {
     "name": "stdout",
     "output_type": "stream",
     "text": [
      "15505\n",
      "15505\n",
      "15505\n",
      "15505\n",
      "15505\n",
      "15505\n"
     ]
    }
   ],
   "source": [
    "train_mask_dict, train_age_dict,train_age_group_dict, train_gender_dict, train_class_dict = data_dist(train_dataset.image_paths[:15505])\n",
    "print(sum(train_mask_dict.values()))\n",
    "print(sum(train_age_dict.values()))\n",
    "print(sum(train_age_group_dict.values()))\n",
    "print(sum(train_gender_dict.values()))\n",
    "print(sum(train_class_dict.values()))"
   ]
  },
  {
   "cell_type": "code",
   "execution_count": 18,
   "id": "d6b66531-3b82-4911-bfe3-276f12b53507",
   "metadata": {},
   "outputs": [
    {
     "data": {
      "image/png": "[encoded data removed]",
      "text/plain": [
       "<Figure size 432x288 with 1 Axes>"
      ]
     },
     "metadata": {
      "needs_background": "light"
     },
     "output_type": "display_data"
    },
    {
     "data": {
      "image/png": "[encoded data removed]",
      "text/plain": [
       "<Figure size 432x288 with 1 Axes>"
      ]
     },
     "metadata": {
      "needs_background": "light"
     },
     "output_type": "display_data"
    },
    {
     "data": {
      "image/png": "[encoded data removed]",
      "text/plain": [
       "<Figure size 432x288 with 1 Axes>"
      ]
     },
     "metadata": {
      "needs_background": "light"
     },
     "output_type": "display_data"
    },
    {
     "data": {
      "image/png": "[encoded data removed]",
      "text/plain": [
       "<Figure size 432x288 with 1 Axes>"
      ]
     },
     "metadata": {
      "needs_background": "light"
     },
     "output_type": "display_data"
    },
    {
     "data": {
      "image/png": "[encoded data removed]",
      "text/plain": [
       "<Figure size 432x288 with 1 Axes>"
      ]
     },
     "metadata": {
      "needs_background": "light"
     },
     "output_type": "display_data"
    }
   ],
   "source": [
    "# train split plot\n",
    "\n",
    "## MASK\n",
    "plt.bar(range(len(train_mask_dict)), list(train_mask_dict.values()), align='center',color='green')\n",
    "plt.xticks(range(len(train_mask_dict)), list(train_mask_dict.keys()))\n",
    "# # for python 2.x:\n",
    "# plt.bar(range(len(D)), D.values(), align='center')  # python 2.x\n",
    "# plt.xticks(range(len(D)), D.keys())  # in python 2.x\n",
    "plt.title('Mask')\n",
    "plt.show()\n",
    "\n",
    "## AGE\n",
    "plt.bar(range(len(train_age_dict)), list(train_age_dict.values()), align='center',color='green')\n",
    "plt.xticks(range(len(train_age_dict)), list(train_age_dict.keys()))\n",
    "# # for python 2.x:\n",
    "# plt.bar(range(len(D)), D.values(), align='center')  # python 2.x\n",
    "# plt.xticks(range(len(D)), D.keys())  # in python 2.x\n",
    "plt.title('Age')\n",
    "plt.show()\n",
    "\n",
    "## AGE GROUP\n",
    "plt.bar(range(len(train_age_group_dict)), list(train_age_group_dict.values()), align='center',color='green')\n",
    "plt.xticks(range(len(train_age_group_dict)), list(train_age_group_dict.keys()))\n",
    "# # for python 2.x:\n",
    "# plt.bar(range(len(D)), D.values(), align='center')  # python 2.x\n",
    "# plt.xticks(range(len(D)), D.keys())  # in python 2.x\n",
    "plt.title('Age Group')\n",
    "plt.show()\n",
    "\n",
    "## Gender\n",
    "plt.bar(range(len(train_gender_dict)), list(train_gender_dict.values()), align='center',color='green')\n",
    "plt.xticks(range(len(train_gender_dict)), list(train_gender_dict.keys()))\n",
    "# # for python 2.x:\n",
    "# plt.bar(range(len(D)), D.values(), align='center')  # python 2.x\n",
    "# plt.xticks(range(len(D)), D.keys())  # in python 2.x\n",
    "plt.title('Gender')\n",
    "plt.show()\n",
    "\n",
    "## Class\n",
    "plt.bar(range(len(train_class_dict)), list(train_class_dict.values()), align='center',color='green')\n",
    "plt.xticks(range(len(train_class_dict)), list(train_class_dict.keys()))\n",
    "# # for python 2.x:\n",
    "# plt.bar(range(len(D)), D.values(), align='center')  # python 2.x\n",
    "# plt.xticks(range(len(D)), D.keys())  # in python 2.x\n",
    "plt.title('Class')\n",
    "plt.show()\n",
    "\n",
    "plt.show()"
   ]
  },
  {
   "cell_type": "code",
   "execution_count": 19,
   "id": "4b077c6f-666c-4bab-b135-a0aead5f35df",
   "metadata": {},
   "outputs": [
    {
     "name": "stdout",
     "output_type": "stream",
     "text": [
      "3395\n",
      "3395\n",
      "3395\n",
      "3395\n",
      "3395\n",
      "3395\n"
     ]
    },
    {
     "data": {
      "image/png": "[encoded data removed]",
      "text/plain": [
       "<Figure size 432x288 with 1 Axes>"
      ]
     },
     "metadata": {
      "needs_background": "light"
     },
     "output_type": "display_data"
    },
    {
     "data": {
      "image/png": "[encoded data removed]",
      "text/plain": [
       "<Figure size 432x288 with 1 Axes>"
      ]
     },
     "metadata": {
      "needs_background": "light"
     },
     "output_type": "display_data"
    },
    {
     "data": {
      "image/png": "[encoded data removed]",
      "text/plain": [
       "<Figure size 432x288 with 1 Axes>"
      ]
     },
     "metadata": {
      "needs_background": "light"
     },
     "output_type": "display_data"
    },
    {
     "data": {
      "image/png": "[encoded data removed]",
      "text/plain": [
       "<Figure size 432x288 with 1 Axes>"
      ]
     },
     "metadata": {
      "needs_background": "light"
     },
     "output_type": "display_data"
    },
    {
     "data": {
      "image/png": "[encoded data removed]",
      "text/plain": [
       "<Figure size 432x288 with 1 Axes>"
      ]
     },
     "metadata": {
      "needs_background": "light"
     },
     "output_type": "display_data"
    }
   ],
   "source": [
    "val_mask_dict, val_age_dict,val_age_group_dict, val_gender_dict, val_class_dict = data_dist(train_dataset.image_paths[15505:])\n",
    "print(sum(val_mask_dict.values()))\n",
    "print(sum(val_age_dict.values()))\n",
    "print(sum(val_age_group_dict.values()))\n",
    "print(sum(val_gender_dict.values()))\n",
    "print(sum(val_class_dict.values()))\n",
    "\n",
    "# train split plot\n",
    "\n",
    "## MASK\n",
    "plt.bar(range(len(val_mask_dict)), list(val_mask_dict.values()), align='center',color='orange')\n",
    "plt.xticks(range(len(val_mask_dict)), list(val_mask_dict.keys()))\n",
    "# # for python 2.x:\n",
    "# plt.bar(range(len(D)), D.values(), align='center')  # python 2.x\n",
    "# plt.xticks(range(len(D)), D.keys())  # in python 2.x\n",
    "plt.title('Mask')\n",
    "plt.show()\n",
    "\n",
    "## AGE\n",
    "plt.bar(range(len(val_age_dict)), list(val_age_dict.values()), align='center',color='orange')\n",
    "plt.xticks(range(len(val_age_dict)), list(val_age_dict.keys()))\n",
    "# # for python 2.x:\n",
    "# plt.bar(range(len(D)), D.values(), align='center')  # python 2.x\n",
    "# plt.xticks(range(len(D)), D.keys())  # in python 2.x\n",
    "plt.title('Age')\n",
    "plt.show()\n",
    "\n",
    "## AGE GROUP\n",
    "plt.bar(range(len(val_age_group_dict)), list(val_age_group_dict.values()), align='center',color='orange')\n",
    "plt.xticks(range(len(val_age_group_dict)), list(val_age_group_dict.keys()))\n",
    "# # for python 2.x:\n",
    "# plt.bar(range(len(D)), D.values(), align='center')  # python 2.x\n",
    "# plt.xticks(range(len(D)), D.keys())  # in python 2.x\n",
    "plt.title('Age Group')\n",
    "plt.show()\n",
    "\n",
    "## Gender\n",
    "plt.bar(range(len(val_gender_dict)), list(val_gender_dict.values()), align='center',color='orange')\n",
    "plt.xticks(range(len(val_gender_dict)), list(val_gender_dict.keys()))\n",
    "# # for python 2.x:\n",
    "# plt.bar(range(len(D)), D.values(), align='center')  # python 2.x\n",
    "# plt.xticks(range(len(D)), D.keys())  # in python 2.x\n",
    "plt.title('Gender')\n",
    "plt.show()\n",
    "\n",
    "## Class\n",
    "plt.bar(range(len(val_class_dict)), list(val_class_dict.values()), align='center',color='orange')\n",
    "plt.xticks(range(len(val_class_dict)), list(val_class_dict.keys()))\n",
    "# # for python 2.x:\n",
    "# plt.bar(range(len(D)), D.values(), align='center')  # python 2.x\n",
    "# plt.xticks(range(len(D)), D.keys())  # in python 2.x\n",
    "plt.title('Class')\n",
    "plt.show()\n",
    "\n",
    "plt.show()"
   ]
  },
  {
   "cell_type": "code",
   "execution_count": 20,
   "id": "b84f4e47-f2e0-4ff3-b54a-8164cc4ebd8c",
   "metadata": {},
   "outputs": [
    {
     "data": {
      "image/png": "[encoded data removed]",
      "text/plain": [
       "<Figure size 432x288 with 1 Axes>"
      ]
     },
     "metadata": {
      "needs_background": "light"
     },
     "output_type": "display_data"
    },
    {
     "name": "stdout",
     "output_type": "stream",
     "text": [
      "dict_keys(['not_wear-F-30', 'wear-F-3060', 'wear-F-30', 'wear-M-30', 'wear-F-60', 'not_wear-M-3060', 'incor-F-3060', 'not_wear-F-3060', 'incor-M-30', 'wear-M-60', 'not_wear-F-60', 'not_wear-M-30', 'incor-F-30', 'wear-M-3060', 'incor-F-60', 'incor-M-3060', 'not_wear-M-60', 'incor-M-60'])\n"
     ]
    },
    {
     "data": {
      "image/png": "[encoded data removed]",
      "text/plain": [
       "<Figure size 432x288 with 1 Axes>"
      ]
     },
     "metadata": {
      "needs_background": "light"
     },
     "output_type": "display_data"
    },
    {
     "name": "stdout",
     "output_type": "stream",
     "text": [
      "dict_keys(['not_wear-F-30', 'wear-F-3060', 'wear-F-30', 'wear-M-30', 'wear-F-60', 'not_wear-M-3060', 'incor-F-3060', 'not_wear-F-3060', 'incor-M-30', 'wear-M-60', 'not_wear-F-60', 'not_wear-M-30', 'incor-F-30', 'wear-M-3060', 'incor-F-60', 'incor-M-3060', 'not_wear-M-60', 'incor-M-60'])\n"
     ]
    },
    {
     "data": {
      "image/png": "[encoded data removed]",
      "text/plain": [
       "<Figure size 432x288 with 1 Axes>"
      ]
     },
     "metadata": {
      "needs_background": "light"
     },
     "output_type": "display_data"
    },
    {
     "name": "stdout",
     "output_type": "stream",
     "text": [
      "dict_keys(['wear-F-30', 'wear-M-30', 'wear-F-3060', 'wear-M-3060', 'incor-M-30', 'not_wear-M-30', 'incor-F-3060', 'wear-M-60', 'not_wear-M-60', 'not_wear-F-30', 'not_wear-F-3060', 'wear-F-60', 'incor-F-30', 'not_wear-M-3060', 'not_wear-F-60', 'incor-M-60', 'incor-M-3060', 'incor-F-60'])\n"
     ]
    }
   ],
   "source": [
    "TRUE_LABELS = ['0_wear-M-30', '1_wear-M-3060','2_wear-M-60',\n",
    "                   '3_wear-F-30', '4_wear-F-3060','5_wear-F-60',\n",
    "                   '6_incor-M-30', '7_incor-M-3060','8_incor-M-60',\n",
    "                   '9_incor-F-30', '10_incor-F-3060','11_incor-F-60',\n",
    "                   '12_not_wear-M-30', '13_not_wear-M-3060', '14_not_wear-M-60',\n",
    "                   '15_not_wear-F-30', '16_not_wear-F-3060', '17_not_wear-F-60'\n",
    "                   ]\n",
    "\n",
    "LABELS = list(range(18))\n",
    "\n",
    "colors = [\n",
    "'black','dimgrey','lightgrey',\n",
    "'black','dimgrey','lightgrey',\n",
    "    'black','dimgrey','lightgrey',\n",
    "    'black','dimgrey','lightgrey',\n",
    "    'black','dimgrey','lightgrey',\n",
    "    'black','dimgrey','lightgrey',\n",
    "    \n",
    "]\n",
    "\n",
    "\n",
    "## Class\n",
    "plt.bar(range(len(class_dict)), list(class_dict.values()), align='center', color = colors)\n",
    "plt.xticks(range(len(class_dict)), LABELS)\n",
    "# # for python 2.x:\n",
    "# plt.bar(range(len(D)), D.values(), align='center')  # python 2.x\n",
    "# plt.xticks(range(len(D)), D.keys())  # in python 2.x\n",
    "plt.title('Total training Class')\n",
    "plt.show()\n",
    "print(class_dict.keys())\n",
    "## Class\n",
    "plt.bar(range(len(train_class_dict)), list(train_class_dict.values()), align='center',color = colors)\n",
    "plt.xticks(range(len(train_class_dict)), LABELS)\n",
    "# # for python 2.x:\n",
    "# plt.bar(range(len(D)), D.values(), align='center')  # python 2.x\n",
    "# plt.xticks(range(len(D)), D.keys())  # in python 2.x\n",
    "plt.title('Split Class')\n",
    "plt.show()\n",
    "print(train_class_dict.keys())\n",
    "## Class\n",
    "plt.bar(range(len(val_class_dict)), list(val_class_dict.values()), align='center',color = colors)\n",
    "plt.xticks(range(len(val_class_dict)), LABELS)\n",
    "# # for python 2.x:\n",
    "# plt.bar(range(len(D)), D.values(), align='center')  # python 2.x\n",
    "# plt.xticks(range(len(D)), D.keys())  # in python 2.x\n",
    "plt.title('Val Class')\n",
    "plt.show()\n",
    "print(val_class_dict.keys())"
   ]
  },
  {
   "cell_type": "code",
   "execution_count": 21,
   "id": "bcca3696-19a9-492c-950c-dcbcc2b62517",
   "metadata": {},
   "outputs": [
    {
     "data": {
      "text/plain": [
       "{'wear-F-3060': 4085,\n",
       " 'wear-F-30': 3660,\n",
       " 'wear-M-30': 2745,\n",
       " 'wear-M-3060': 2050,\n",
       " 'incor-F-3060': 817,\n",
       " 'not_wear-F-3060': 817,\n",
       " 'not_wear-F-30': 732,\n",
       " 'incor-F-30': 732,\n",
       " 'incor-M-30': 549,\n",
       " 'not_wear-M-30': 549,\n",
       " 'wear-F-60': 545,\n",
       " 'wear-M-60': 415,\n",
       " 'not_wear-M-3060': 410,\n",
       " 'incor-M-3060': 410,\n",
       " 'not_wear-F-60': 109,\n",
       " 'incor-F-60': 109,\n",
       " 'not_wear-M-60': 83,\n",
       " 'incor-M-60': 83}"
      ]
     },
     "execution_count": 21,
     "metadata": {},
     "output_type": "execute_result"
    }
   ],
   "source": [
    "from collections import OrderedDict\n",
    "dict(sorted(class_dict.items(), key=lambda kv: kv[1], reverse=True))"
   ]
  },
  {
   "cell_type": "code",
   "execution_count": 22,
   "id": "246d7a32-8d23-46c4-ae91-e2eeb2126403",
   "metadata": {},
   "outputs": [
    {
     "data": {
      "text/plain": [
       "<Figure size 72x72 with 0 Axes>"
      ]
     },
     "metadata": {},
     "output_type": "display_data"
    }
   ],
   "source": [
    "\n",
    "\n",
    "def change_val(value_dict):\n",
    "    TRUE_LABELS_NAME = ['wear-M-30', 'wear-M-3060','wear-M-60',\n",
    "               'wear-F-30', 'wear-F-3060','wear-F-60',\n",
    "               'incor-M-30', 'incor-M-3060','incor-M-60',\n",
    "               'incor-F-30', 'incor-F-3060','incor-F-60',\n",
    "               'not_wear-M-30', 'not_wear-M-3060', 'not_wear-M-60',\n",
    "               'not_wear-F-30', 'not_wear-F-3060', 'not_wear-F-60'\n",
    "               ]\n",
    "    LABEL_DICT = {TRUE_LABELS_NAME[k]:k for k in range(len(TRUE_LABELS_NAME))}\n",
    "    \n",
    "    result = list(range(len(TRUE_LABELS_NAME)))\n",
    "    for k, v in value_dict.items():\n",
    "    \n",
    "        result[LABEL_DICT[k]] = v\n",
    "    return result\n",
    "\n",
    "def data_dist(indices):\n",
    "   \n",
    "    mask_dict = defaultdict(int)\n",
    "    age_dict = defaultdict(int)\n",
    "    age_group_dict = defaultdict(int)\n",
    "    gender_dict = defaultdict(int)\n",
    "    class_dict = defaultdict(int)\n",
    "    \n",
    "    for file_path in indices:\n",
    "        mask_file = file_path.split('/')[-1]\n",
    "        info_file = file_path.split('/')[-2]\n",
    "        \n",
    "        _, gender, race, age = info_file.split('_')\n",
    "        \n",
    "        mask_dict[filter_mask(mask_file.split('.')[0])] += 1\n",
    "        age_dict[age] += 1\n",
    "        gender_dict[gender] += 1\n",
    "        age_group_dict[group_age(int(age))] +=1 \n",
    "        labels = f\"{filter_mask(mask_file.split('.')[0])}-{filter_gender(gender)}-{group_age(int(age))}\"\n",
    "        class_dict[labels] += 1\n",
    "    return mask_dict, age_dict,age_group_dict, gender_dict, class_dict\n",
    "\n",
    "import random\n",
    "random.shuffle(train_dataset.image_paths)\n",
    "plt.figure(figsize=(1,1))\n",
    "\n",
    "def plot_distr(total_train_image_path,ratio = 0.2):\n",
    " \n",
    "    train_idx = int(len(total_train_image_path)*(1-ratio))\n",
    "\n",
    "    split_train = total_train_image_path[:train_idx]\n",
    "    print(total_train_image_path[:5])\n",
    "    print(split_train[:5])\n",
    "    \n",
    "    split_val = total_train_image_path[train_idx:]\n",
    "    print(f'train: {len(split_train)}, val: {len(split_val)}')\n",
    "    \n",
    "    mask_dict, age_dict,age_group_dict, gender_dict, class_dict = data_dist(total_train_image_path)\n",
    "    train_mask_dict, train_age_dict,train_age_group_dict, train_gender_dict, train_class_dict = data_dist(split_train)\n",
    "    val_mask_dict, val_age_dict,val_age_group_dict, val_gender_dict, val_class_dict = data_dist(split_val )\n",
    "    \n",
    "\n",
    "    LABELS = list(range(18))\n",
    "\n",
    "    colors = [\n",
    "    'black','dimgrey','lightgrey',\n",
    "    'black','dimgrey','lightgrey',\n",
    "        'black','dimgrey','lightgrey',\n",
    "        'black','dimgrey','lightgrey',\n",
    "        'black','dimgrey','lightgrey',\n",
    "        'black','dimgrey','lightgrey',\n",
    "\n",
    "    ]\n",
    "    order = False\n",
    "    if order:\n",
    "        class_dict = dict(sorted(class_dict.items(), key=lambda kv: kv[1], reverse=True))\n",
    "        train_class_dict = dict(sorted(train_gender_dict.items(), key=lambda kv: kv[1], reverse=True))\n",
    "        val_class_dict = dict(sorted(val_class_dict.items(), key=lambda kv: kv[1], reverse=True))\n",
    "    else:\n",
    "        class_list = change_val(class_dict)\n",
    "        train_class_list = change_val(train_class_dict)\n",
    "        val_class_list = change_val(val_class_dict)\n",
    "                  \n",
    "#     ## Class\n",
    "#     plt.bar(range(len(class_dict)), class_list, align='center', color = colors)\n",
    "#     plt.xticks(range(len(class_dict)), LABELS)\n",
    "#     # # for python 2.x:\n",
    "#     # plt.bar(range(len(D)), D.values(), align='center')  # python 2.x\n",
    "#     # plt.xticks(range(len(D)), D.keys())  # in python 2.x\n",
    "#     plt.title('Total training Class')\n",
    "#     plt.show()\n",
    "\n",
    "#     ## Class\n",
    "#     plt.bar(range(len(train_class_dict)), train_class_list, align='center',color = colors)\n",
    "#     plt.xticks(range(len(train_class_dict)), LABELS)\n",
    "#     # # for python 2.x:\n",
    "#     # plt.bar(range(len(D)), D.values(), align='center')  # python 2.x\n",
    "#     # plt.xticks(range(len(D)), D.keys())  # in python 2.x\n",
    "#     plt.title('Split Training Class')\n",
    "#     plt.show()\n",
    "\n",
    "    ## Class\n",
    "    plt.bar(range(len(val_class_dict)), val_class_list, align='center',color = colors)\n",
    "    plt.xticks(range(len(val_class_dict)), LABELS)\n",
    "    # # for python 2.x:\n",
    "    # plt.bar(range(len(D)), D.values(), align='center')  # python 2.x\n",
    "    # plt.xticks(range(len(D)), D.keys())  # in python 2.x\n",
    "    plt.title('Split Val Class')\n",
    "    plt.show()\n",
    "    print(val_class_list)"
   ]
  },
  {
   "cell_type": "code",
   "execution_count": 23,
   "id": "1d6502de-5021-482a-b21a-59feaa6a65b8",
   "metadata": {},
   "outputs": [
    {
     "name": "stdout",
     "output_type": "stream",
     "text": [
      "['/opt/ml/input/data/train/images/001535_female_Asian_18/mask4.jpg', '/opt/ml/input/data/train/images/001123_female_Asian_25/incorrect_mask.jpg', '/opt/ml/input/data/train/images/005476_female_Asian_43/mask3.jpg', '/opt/ml/input/data/train/images/005443_female_Asian_23/mask5.jpg', '/opt/ml/input/data/train/images/000356_female_Asian_58/mask4.jpg']\n",
      "['/opt/ml/input/data/train/images/001535_female_Asian_18/mask4.jpg', '/opt/ml/input/data/train/images/001123_female_Asian_25/incorrect_mask.jpg', '/opt/ml/input/data/train/images/005476_female_Asian_43/mask3.jpg', '/opt/ml/input/data/train/images/005443_female_Asian_23/mask5.jpg', '/opt/ml/input/data/train/images/000356_female_Asian_58/mask4.jpg']\n",
      "['/opt/ml/input/data/train/images/001535_female_Asian_18/mask4.jpg', '/opt/ml/input/data/train/images/001123_female_Asian_25/incorrect_mask.jpg', '/opt/ml/input/data/train/images/005476_female_Asian_43/mask3.jpg', '/opt/ml/input/data/train/images/005443_female_Asian_23/mask5.jpg', '/opt/ml/input/data/train/images/000356_female_Asian_58/mask4.jpg']\n",
      "train: 15120, val: 3780\n"
     ]
    },
    {
     "data": {
      "image/png": "[encoded data removed]",
      "text/plain": [
       "<Figure size 432x288 with 1 Axes>"
      ]
     },
     "metadata": {
      "needs_background": "light"
     },
     "output_type": "display_data"
    },
    {
     "name": "stdout",
     "output_type": "stream",
     "text": [
      "[551, 421, 80, 715, 804, 121, 118, 80, 20, 145, 180, 19, 121, 73, 16, 141, 161, 14]\n",
      "---\n",
      "['/opt/ml/input/data/train/images/000216_female_Asian_56/mask4.jpg', '/opt/ml/input/data/train/images/003345_female_Asian_19/mask2.jpg', '/opt/ml/input/data/train/images/001422_male_Asian_58/mask3.jpg', '/opt/ml/input/data/train/images/005406_male_Asian_24/normal.jpg', '/opt/ml/input/data/train/images/005130_female_Asian_29/mask2.jpg']\n",
      "['/opt/ml/input/data/train/images/000216_female_Asian_56/mask4.jpg', '/opt/ml/input/data/train/images/003345_female_Asian_19/mask2.jpg', '/opt/ml/input/data/train/images/001422_male_Asian_58/mask3.jpg', '/opt/ml/input/data/train/images/005406_male_Asian_24/normal.jpg', '/opt/ml/input/data/train/images/005130_female_Asian_29/mask2.jpg']\n",
      "['/opt/ml/input/data/train/images/000216_female_Asian_56/mask4.jpg', '/opt/ml/input/data/train/images/003345_female_Asian_19/mask2.jpg', '/opt/ml/input/data/train/images/001422_male_Asian_58/mask3.jpg', '/opt/ml/input/data/train/images/005406_male_Asian_24/normal.jpg', '/opt/ml/input/data/train/images/005130_female_Asian_29/mask2.jpg']\n",
      "train: 15120, val: 3780\n"
     ]
    },
    {
     "data": {
      "image/png": "[encoded data removed]",
      "text/plain": [
       "<Figure size 432x288 with 1 Axes>"
      ]
     },
     "metadata": {
      "needs_background": "light"
     },
     "output_type": "display_data"
    },
    {
     "name": "stdout",
     "output_type": "stream",
     "text": [
      "[555, 408, 88, 726, 801, 108, 112, 72, 14, 163, 182, 30, 109, 81, 20, 136, 161, 14]\n",
      "---\n",
      "['/opt/ml/input/data/train/images/006407_female_Asian_18/incorrect_mask.jpg', '/opt/ml/input/data/train/images/006542_female_Asian_21/mask3.jpg', '/opt/ml/input/data/train/images/000824_female_Asian_55/mask3.jpg', '/opt/ml/input/data/train/images/005267_male_Asian_21/normal.jpg', '/opt/ml/input/data/train/images/003440_male_Asian_60/incorrect_mask.jpg']\n",
      "['/opt/ml/input/data/train/images/006407_female_Asian_18/incorrect_mask.jpg', '/opt/ml/input/data/train/images/006542_female_Asian_21/mask3.jpg', '/opt/ml/input/data/train/images/000824_female_Asian_55/mask3.jpg', '/opt/ml/input/data/train/images/005267_male_Asian_21/normal.jpg', '/opt/ml/input/data/train/images/003440_male_Asian_60/incorrect_mask.jpg']\n",
      "['/opt/ml/input/data/train/images/006407_female_Asian_18/incorrect_mask.jpg', '/opt/ml/input/data/train/images/006542_female_Asian_21/mask3.jpg', '/opt/ml/input/data/train/images/000824_female_Asian_55/mask3.jpg', '/opt/ml/input/data/train/images/005267_male_Asian_21/normal.jpg', '/opt/ml/input/data/train/images/003440_male_Asian_60/incorrect_mask.jpg']\n",
      "train: 15120, val: 3780\n"
     ]
    },
    {
     "data": {
      "image/png": "[encoded data removed]",
      "text/plain": [
       "<Figure size 432x288 with 1 Axes>"
      ]
     },
     "metadata": {
      "needs_background": "light"
     },
     "output_type": "display_data"
    },
    {
     "name": "stdout",
     "output_type": "stream",
     "text": [
      "[547, 377, 88, 726, 844, 106, 105, 88, 15, 151, 175, 18, 129, 86, 16, 136, 152, 21]\n"
     ]
    }
   ],
   "source": [
    "import random\n",
    "random.shuffle(train_dataset.image_paths)\n",
    "print(train_dataset.image_paths[:5]) # 이걸 안하면 안섞이네;;\n",
    "plot_distr(train_dataset.image_paths)\n",
    "print('---')\n",
    "random.shuffle(train_dataset.image_paths)\n",
    "print(train_dataset.image_paths[:5])\n",
    "plot_distr(train_dataset.image_paths)\n",
    "print('---')\n",
    "random.shuffle(train_dataset.image_paths)\n",
    "print(train_dataset.image_paths[:5])\n",
    "plot_distr(train_dataset.image_paths)\n"
   ]
  },
  {
   "cell_type": "code",
   "execution_count": 24,
   "id": "eb0830ba-605e-4734-98eb-873b3febf601",
   "metadata": {},
   "outputs": [
    {
     "data": {
      "text/plain": [
       "['/opt/ml/input/data/train/images/006589_female_Asian_20/mask1.jpeg',\n",
       " '/opt/ml/input/data/train/images/003170_female_Asian_20/mask3.jpg',\n",
       " '/opt/ml/input/data/train/images/003418_female_Asian_53/mask2.jpg',\n",
       " '/opt/ml/input/data/train/images/000575_male_Asian_55/mask1.jpg',\n",
       " '/opt/ml/input/data/train/images/001422_male_Asian_58/incorrect_mask.jpg',\n",
       " '/opt/ml/input/data/train/images/000783_male_Asian_58/mask4.jpg',\n",
       " '/opt/ml/input/data/train/images/003397_female_Asian_19/normal.jpg',\n",
       " '/opt/ml/input/data/train/images/003529_male_Asian_58/mask3.jpg',\n",
       " '/opt/ml/input/data/train/images/005490_female_Asian_42/incorrect_mask.jpg',\n",
       " '/opt/ml/input/data/train/images/001157_female_Asian_24/mask1.jpg']"
      ]
     },
     "execution_count": 24,
     "metadata": {},
     "output_type": "execute_result"
    }
   ],
   "source": [
    "random.shuffle(train_dataset.image_paths)\n",
    "train_dataset.image_paths[:10]"
   ]
  },
  {
   "cell_type": "code",
   "execution_count": 25,
   "id": "d0f24f7b-c102-4374-92a0-6f6081598f8d",
   "metadata": {},
   "outputs": [
    {
     "data": {
      "text/plain": [
       "<Figure size 72x72 with 0 Axes>"
      ]
     },
     "metadata": {},
     "output_type": "display_data"
    }
   ],
   "source": [
    "\n",
    "def change_val(value_dict):\n",
    "    TRUE_LABELS_NAME = ['wear-M-30', 'wear-M-3060','wear-M-60',\n",
    "               'wear-F-30', 'wear-F-3060','wear-F-60',\n",
    "               'incor-M-30', 'incor-M-3060','incor-M-60',\n",
    "               'incor-F-30', 'incor-F-3060','incor-F-60',\n",
    "               'not_wear-M-30', 'not_wear-M-3060', 'not_wear-M-60',\n",
    "               'not_wear-F-30', 'not_wear-F-3060', 'not_wear-F-60'\n",
    "               ]\n",
    "    LABEL_DICT = {TRUE_LABELS_NAME[k]:k for k in range(len(TRUE_LABELS_NAME))}\n",
    "    \n",
    "    result = list(range(len(TRUE_LABELS_NAME)))\n",
    "    for k, v in value_dict.items():\n",
    "    \n",
    "        result[LABEL_DICT[k]] = v\n",
    "    return result\n",
    "\n",
    "def data_dist(indices):\n",
    "   \n",
    "    mask_dict = defaultdict(int)\n",
    "    age_dict = defaultdict(int)\n",
    "    age_group_dict = defaultdict(int)\n",
    "    gender_dict = defaultdict(int)\n",
    "    class_dict = defaultdict(int)\n",
    "    \n",
    "    for file_path in indices:\n",
    "        mask_file = file_path.split('/')[-1]\n",
    "        info_file = file_path.split('/')[-2]\n",
    "        \n",
    "        _, gender, race, age = info_file.split('_')\n",
    "        \n",
    "        mask_dict[filter_mask(mask_file.split('.')[0])] += 1\n",
    "        age_dict[age] += 1\n",
    "        gender_dict[gender] += 1\n",
    "        age_group_dict[group_age(int(age))] +=1 \n",
    "        labels = f\"{filter_mask(mask_file.split('.')[0])}-{filter_gender(gender)}-{group_age(int(age))}\"\n",
    "        class_dict[labels] += 1\n",
    "    return mask_dict, age_dict,age_group_dict, gender_dict, class_dict\n",
    "\n",
    "import random\n",
    "random.shuffle(train_dataset.image_paths)\n",
    "plt.figure(figsize=(1,1))\n",
    "\n",
    "def plot_distr(total_train_image_path,ratio = 0.2):\n",
    " \n",
    "    train_idx = int(len(total_train_image_path)*(1-ratio))\n",
    "\n",
    "    split_train = total_train_image_path[:train_idx]\n",
    "    print(total_train_image_path[:5])\n",
    "    print(split_train[:5])\n",
    "    \n",
    "    split_val = total_train_image_path[train_idx:]\n",
    "    print(f'train: {len(split_train)}, val: {len(split_val)}')\n",
    "    \n",
    "    mask_dict, age_dict,age_group_dict, gender_dict, class_dict = data_dist(total_train_image_path)\n",
    "    train_mask_dict, train_age_dict,train_age_group_dict, train_gender_dict, train_class_dict = data_dist(split_train)\n",
    "    val_mask_dict, val_age_dict,val_age_group_dict, val_gender_dict, val_class_dict = data_dist(split_val )\n",
    "    \n",
    "\n",
    "    LABELS = list(range(18))\n",
    "\n",
    "    colors = [\n",
    "    'black','dimgrey','lightgrey',\n",
    "    'black','dimgrey','lightgrey',\n",
    "        'black','dimgrey','lightgrey',\n",
    "        'black','dimgrey','lightgrey',\n",
    "        'black','dimgrey','lightgrey',\n",
    "        'black','dimgrey','lightgrey',\n",
    "\n",
    "    ]\n",
    "    order = False\n",
    "    if order:\n",
    "        class_dict = dict(sorted(class_dict.items(), key=lambda kv: kv[1], reverse=True))\n",
    "        train_class_dict = dict(sorted(train_gender_dict.items(), key=lambda kv: kv[1], reverse=True))\n",
    "        val_class_dict = dict(sorted(val_class_dict.items(), key=lambda kv: kv[1], reverse=True))\n",
    "    else:\n",
    "        class_list = change_val(class_dict)\n",
    "        train_class_list = change_val(train_class_dict)\n",
    "        val_class_list = change_val(val_class_dict)\n",
    "                  \n",
    "#     ## Class\n",
    "#     plt.bar(range(len(class_dict)), class_list, align='center', color = colors)\n",
    "#     plt.xticks(range(len(class_dict)), LABELS)\n",
    "#     # # for python 2.x:\n",
    "#     # plt.bar(range(len(D)), D.values(), align='center')  # python 2.x\n",
    "#     # plt.xticks(range(len(D)), D.keys())  # in python 2.x\n",
    "#     plt.title('Total training Class')\n",
    "#     plt.show()\n",
    "\n",
    "    ## Class\n",
    "    plt.bar(range(len(train_class_dict)), train_class_list, align='center',color = colors)\n",
    "    plt.xticks(range(len(train_class_dict)), LABELS)\n",
    "    # # for python 2.x:\n",
    "    # plt.bar(range(len(D)), D.values(), align='center')  # python 2.x\n",
    "    # plt.xticks(range(len(D)), D.keys())  # in python 2.x\n",
    "    plt.title('Split Training Class')\n",
    "    plt.show()\n",
    "    print(train_class_list)\n",
    "\n",
    "    ## Class\n",
    "    plt.bar(range(len(val_class_dict)), val_class_list, align='center',color = colors)\n",
    "    plt.xticks(range(len(val_class_dict)), LABELS)\n",
    "    # # for python 2.x:\n",
    "    # plt.bar(range(len(D)), D.values(), align='center')  # python 2.x\n",
    "    # plt.xticks(range(len(D)), D.keys())  # in python 2.x\n",
    "    plt.title('Split Val Class')\n",
    "    plt.show()\n",
    "    print(val_class_list)"
   ]
  },
  {
   "cell_type": "code",
   "execution_count": 26,
   "id": "565f7d2c-2163-42f9-a9d6-8d78e0923020",
   "metadata": {},
   "outputs": [
    {
     "name": "stdout",
     "output_type": "stream",
     "text": [
      "['../input/data/train/images/001218_female_Asian_18/normal.jpg', '../input/data/train/images/001332_male_Asian_25/mask1.jpg', '../input/data/train/images/001799_female_Asian_25/mask1.jpg']\n",
      "['../input/data/train/images/001218_female_Asian_18/normal.jpg', '../input/data/train/images/001332_male_Asian_25/mask1.jpg', '../input/data/train/images/001799_female_Asian_25/mask1.jpg', '../input/data/train/images/005026_male_Asian_60/mask5.jpg', '../input/data/train/images/003705_female_Asian_58/normal.jpg']\n",
      "['../input/data/train/images/001218_female_Asian_18/normal.jpg', '../input/data/train/images/001332_male_Asian_25/mask1.jpg', '../input/data/train/images/001799_female_Asian_25/mask1.jpg', '../input/data/train/images/005026_male_Asian_60/mask5.jpg', '../input/data/train/images/003705_female_Asian_58/normal.jpg']\n",
      "train: 15120, val: 3780\n"
     ]
    },
    {
     "data": {
      "image/png": "[encoded data removed]",
      "text/plain": [
       "<Figure size 432x288 with 1 Axes>"
      ]
     },
     "metadata": {
      "needs_background": "light"
     },
     "output_type": "display_data"
    },
    {
     "name": "stdout",
     "output_type": "stream",
     "text": [
      "[2200, 1632, 328, 2960, 3232, 433, 463, 333, 67, 573, 646, 89, 437, 331, 61, 590, 660, 85]\n"
     ]
    },
    {
     "data": {
      "image/png": "[encoded data removed]",
      "text/plain": [
       "<Figure size 432x288 with 1 Axes>"
      ]
     },
     "metadata": {
      "needs_background": "light"
     },
     "output_type": "display_data"
    },
    {
     "name": "stdout",
     "output_type": "stream",
     "text": [
      "[545, 418, 87, 700, 853, 112, 86, 77, 16, 159, 171, 20, 112, 79, 22, 142, 157, 24]\n",
      "---\n",
      "['../input/data/train/images/001142_female_Asian_19/mask5.jpg', '../input/data/train/images/000697_female_Asian_58/mask3.jpg', '../input/data/train/images/000763_female_Asian_55/mask1.jpg']\n",
      "['../input/data/train/images/001142_female_Asian_19/mask5.jpg', '../input/data/train/images/000697_female_Asian_58/mask3.jpg', '../input/data/train/images/000763_female_Asian_55/mask1.jpg', '../input/data/train/images/004231_female_Asian_60/mask3.jpg', '../input/data/train/images/001813_male_Asian_55/normal.jpg']\n",
      "['../input/data/train/images/001142_female_Asian_19/mask5.jpg', '../input/data/train/images/000697_female_Asian_58/mask3.jpg', '../input/data/train/images/000763_female_Asian_55/mask1.jpg', '../input/data/train/images/004231_female_Asian_60/mask3.jpg', '../input/data/train/images/001813_male_Asian_55/normal.jpg']\n",
      "train: 15120, val: 3780\n"
     ]
    },
    {
     "data": {
      "image/png": "[encoded data removed]",
      "text/plain": [
       "<Figure size 432x288 with 1 Axes>"
      ]
     },
     "metadata": {
      "needs_background": "light"
     },
     "output_type": "display_data"
    },
    {
     "name": "stdout",
     "output_type": "stream",
     "text": [
      "[2215, 1650, 328, 2905, 3227, 427, 437, 333, 59, 576, 672, 88, 454, 338, 69, 597, 657, 88]\n"
     ]
    },
    {
     "data": {
      "image/png": "[encoded data removed]",
      "text/plain": [
       "<Figure size 432x288 with 1 Axes>"
      ]
     },
     "metadata": {
      "needs_background": "light"
     },
     "output_type": "display_data"
    },
    {
     "name": "stdout",
     "output_type": "stream",
     "text": [
      "[530, 400, 87, 755, 858, 118, 112, 77, 24, 156, 145, 21, 95, 72, 14, 135, 160, 21]\n",
      "---\n"
     ]
    }
   ],
   "source": [
    "import random\n",
    "# random.shuffle(train_dataset.image_paths)\n",
    "train_data_path = glob(os.path.join(data_path,'train','images','*','*'))\n",
    "random.shuffle(train_data_path)\n",
    "print(train_data_path[:3]) # 이걸 안하면 안섞이네;;\n",
    "plot_distr(train_data_path)\n",
    "print('---')\n",
    "random.shuffle(train_data_path)\n",
    "print(train_data_path[:3]) # 이걸 안하면 안섞이네;;\n",
    "plot_distr(train_data_path)\n",
    "print('---')"
   ]
  },
  {
   "cell_type": "code",
   "execution_count": 27,
   "id": "2702367d-4ae3-478d-9f56-56c54e255fe7",
   "metadata": {},
   "outputs": [
    {
     "name": "stdout",
     "output_type": "stream",
     "text": [
      "['../input/data/train/images/005141_male_Asian_48/mask5.jpg', '../input/data/train/images/001544_female_Asian_25/mask2.jpg', '../input/data/train/images/006626_male_Asian_19/mask3.jpg', '../input/data/train/images/005429_female_Asian_42/mask4.jpg', '../input/data/train/images/003471_male_Asian_55/normal.jpg']\n",
      "['../input/data/train/images/005141_male_Asian_48/mask5.jpg', '../input/data/train/images/001544_female_Asian_25/mask2.jpg', '../input/data/train/images/006626_male_Asian_19/mask3.jpg', '../input/data/train/images/005429_female_Asian_42/mask4.jpg', '../input/data/train/images/003471_male_Asian_55/normal.jpg']\n",
      "train: 3060, val: 340\n"
     ]
    },
    {
     "data": {
      "image/png": "[encoded data removed]",
      "text/plain": [
       "<Figure size 432x288 with 1 Axes>"
      ]
     },
     "metadata": {
      "needs_background": "light"
     },
     "output_type": "display_data"
    },
    {
     "data": {
      "image/png": "[encoded data removed]",
      "text/plain": [
       "<Figure size 432x288 with 1 Axes>"
      ]
     },
     "metadata": {
      "needs_background": "light"
     },
     "output_type": "display_data"
    },
    {
     "data": {
      "image/png": "[encoded data removed]",
      "text/plain": [
       "<Figure size 432x288 with 1 Axes>"
      ]
     },
     "metadata": {
      "needs_background": "light"
     },
     "output_type": "display_data"
    },
    {
     "data": {
      "image/png": "[encoded data removed]",
      "text/plain": [
       "<Figure size 432x288 with 1 Axes>"
      ]
     },
     "metadata": {
      "needs_background": "light"
     },
     "output_type": "display_data"
    },
    {
     "data": {
      "image/png": "[encoded data removed]",
      "text/plain": [
       "<Figure size 432x288 with 1 Axes>"
      ]
     },
     "metadata": {
      "needs_background": "light"
     },
     "output_type": "display_data"
    },
    {
     "name": "stdout",
     "output_type": "stream",
     "text": [
      "3400\n"
     ]
    }
   ],
   "source": [
    "def plot_distr2(total_train_image_path,ratio = 0.2):\n",
    " \n",
    "    train_idx = int(len(total_train_image_path)*(1-ratio))\n",
    "\n",
    "    split_train = total_train_image_path[:train_idx]\n",
    "    print(total_train_image_path[:5])\n",
    "    print(split_train[:5])\n",
    "    \n",
    "    split_val = total_train_image_path[train_idx:]\n",
    "    print(f'train: {len(split_train)}, val: {len(split_val)}')\n",
    "    \n",
    "    mask_dict, age_dict,age_group_dict, gender_dict, class_dict = data_dist(split_train)\n",
    "#     train_mask_dict, train_age_dict,train_age_group_dict, train_gender_dict, train_class_dict = data_dist(split_train)\n",
    "#     val_mask_dict, val_age_dict,val_age_group_dict, val_gender_dict, val_class_dict = data_dist(split_val )\n",
    "    \n",
    "\n",
    "    LABELS = list(range(18))\n",
    "\n",
    "    colors = [\n",
    "    'black','dimgrey','lightgrey',\n",
    "    'black','dimgrey','lightgrey',\n",
    "        'black','dimgrey','lightgrey',\n",
    "        'black','dimgrey','lightgrey',\n",
    "        'black','dimgrey','lightgrey',\n",
    "        'black','dimgrey','lightgrey',\n",
    "\n",
    "    ]\n",
    "    order = False\n",
    "    if order:\n",
    "        class_dict = dict(sorted(class_dict.items(), key=lambda kv: kv[1], reverse=True))\n",
    "        train_class_dict = dict(sorted(train_gender_dict.items(), key=lambda kv: kv[1], reverse=True))\n",
    "        val_class_dict = dict(sorted(val_class_dict.items(), key=lambda kv: kv[1], reverse=True))\n",
    "    else:\n",
    "        class_list = change_val(class_dict)\n",
    "#         train_class_list = change_val(train_class_dict)\n",
    "#         val_class_list = change_val(val_class_dict)\n",
    "  \n",
    "    ## MASK\n",
    "    plt.bar(range(len(mask_dict)), sorted(list(mask_dict.values())), align='center',color='orange')\n",
    "    plt.xticks(range(len(mask_dict)), list(mask_dict.keys()))\n",
    "    # # for python 2.x:\n",
    "    # plt.bar(range(len(D)), D.values(), align='center')  # python 2.x\n",
    "    # plt.xticks(range(len(D)), D.keys())  # in python 2.x\n",
    "    plt.title('Mask')\n",
    "    plt.show()\n",
    "\n",
    "    ## AGE\n",
    "    plt.bar(range(len(age_dict)), sorted(list(age_dict.values())), align='center',color='orange')\n",
    "    plt.xticks(range(len(age_dict)), list(age_dict.keys()))\n",
    "    # # for python 2.x:\n",
    "    # plt.bar(range(len(D)), D.values(), align='center')  # python 2.x\n",
    "    # plt.xticks(range(len(D)), D.keys())  # in python 2.x\n",
    "    plt.title('Age')\n",
    "    plt.show()\n",
    "\n",
    "    ## AGE GROUP\n",
    "    plt.bar(range(len(age_group_dict)), sorted(list(age_group_dict.values())), align='center',color='orange')\n",
    "    plt.xticks(range(len(age_group_dict)), list(age_group_dict.keys()))\n",
    "    # # for python 2.x:\n",
    "    # plt.bar(range(len(D)), D.values(), align='center')  # python 2.x\n",
    "    # plt.xticks(range(len(D)), D.keys())  # in python 2.x\n",
    "    plt.title('Age Group')\n",
    "    plt.show()\n",
    "\n",
    "    ## Gender\n",
    "    plt.bar(range(len(gender_dict)), sorted(list(gender_dict.values())), align='center',color='orange')\n",
    "    plt.xticks(range(len(val_gender_dict)), list(val_gender_dict.keys()))\n",
    "    # # for python 2.x:\n",
    "    # plt.bar(range(len(D)), D.values(), align='center')  # python 2.x\n",
    "    # plt.xticks(range(len(D)), D.keys())  # in python 2.x\n",
    "    plt.title('Gender')\n",
    "    plt.show()\n",
    "\n",
    "    ## Class\n",
    "    plt.bar(range(len(class_dict)), class_list, align='center', color = colors)\n",
    "    plt.xticks(range(len(class_dict)), LABELS)\n",
    "    # # for python 2.x:\n",
    "    # plt.bar(range(len(D)), D.values(), align='center')  # python 2.x\n",
    "    # plt.xticks(range(len(D)), D.keys())  # in python 2.x\n",
    "    plt.title('Total training Class')\n",
    "    plt.show()\n",
    "    return class_list, mask_dict, age_dict, age_group_dict, gender_dict\n",
    "#     ## Class\n",
    "#     plt.bar(range(len(train_class_dict)), train_class_list, align='center',color = colors)\n",
    "#     plt.xticks(range(len(train_class_dict)), LABELS)\n",
    "#     # # for python 2.x:\n",
    "#     # plt.bar(range(len(D)), D.values(), align='center')  # python 2.x\n",
    "#     # plt.xticks(range(len(D)), D.keys())  # in python 2.x\n",
    "#     plt.title('Split Training Class')\n",
    "#     plt.show()\n",
    "#     print(train_class_list)\n",
    "\n",
    "#     ## Class\n",
    "#     plt.bar(range(len(val_class_dict)), val_class_list, align='center',color = colors)\n",
    "#     plt.xticks(range(len(val_class_dict)), LABELS)\n",
    "#     # # for python 2.x:\n",
    "#     # plt.bar(range(len(D)), D.values(), align='center')  # python 2.x\n",
    "#     # plt.xticks(range(len(D)), D.keys())  # in python 2.x\n",
    "#     plt.title('Split Val Class')\n",
    "#     plt.show()\n",
    "#     print(val_class_list)\n",
    "    \n",
    "a,b,c,d,e = plot_distr2(train_data_path[15500:], ratio=0.1)\n",
    "print(len(train_data_path[15500:]))"
   ]
  },
  {
   "cell_type": "code",
   "execution_count": 28,
   "id": "57352d60-5e68-4f51-8474-d435e858f6a7",
   "metadata": {},
   "outputs": [
    {
     "name": "stdout",
     "output_type": "stream",
     "text": [
      "['../input/data/train/images/001142_female_Asian_19/mask5.jpg', '../input/data/train/images/000697_female_Asian_58/mask3.jpg', '../input/data/train/images/000763_female_Asian_55/mask1.jpg', '../input/data/train/images/004231_female_Asian_60/mask3.jpg', '../input/data/train/images/001813_male_Asian_55/normal.jpg']\n",
      "['../input/data/train/images/001142_female_Asian_19/mask5.jpg', '../input/data/train/images/000697_female_Asian_58/mask3.jpg', '../input/data/train/images/000763_female_Asian_55/mask1.jpg', '../input/data/train/images/004231_female_Asian_60/mask3.jpg', '../input/data/train/images/001813_male_Asian_55/normal.jpg']\n",
      "train: 3060, val: 340\n"
     ]
    },
    {
     "data": {
      "image/png": "[encoded data removed]",
      "text/plain": [
       "<Figure size 432x288 with 1 Axes>"
      ]
     },
     "metadata": {
      "needs_background": "light"
     },
     "output_type": "display_data"
    },
    {
     "data": {
      "image/png": "[encoded data removed]",
      "text/plain": [
       "<Figure size 432x288 with 1 Axes>"
      ]
     },
     "metadata": {
      "needs_background": "light"
     },
     "output_type": "display_data"
    },
    {
     "data": {
      "image/png": "[encoded data removed]",
      "text/plain": [
       "<Figure size 432x288 with 1 Axes>"
      ]
     },
     "metadata": {
      "needs_background": "light"
     },
     "output_type": "display_data"
    },
    {
     "data": {
      "image/png": "[encoded data removed]",
      "text/plain": [
       "<Figure size 432x288 with 1 Axes>"
      ]
     },
     "metadata": {
      "needs_background": "light"
     },
     "output_type": "display_data"
    },
    {
     "data": {
      "image/png": "[encoded data removed]",
      "text/plain": [
       "<Figure size 432x288 with 1 Axes>"
      ]
     },
     "metadata": {
      "needs_background": "light"
     },
     "output_type": "display_data"
    }
   ],
   "source": [
    "a2,b2,c2,d2,e2 = plot_distr2(train_data_path[:3400], ratio=0.1)"
   ]
  },
  {
   "cell_type": "code",
   "execution_count": 29,
   "id": "cbb28410-b41b-4f18-aab4-491756de0628",
   "metadata": {},
   "outputs": [
    {
     "name": "stdout",
     "output_type": "stream",
     "text": [
      "[425, 324, 69, 605, 703, 102, 98, 61, 18, 122, 116, 12, 77, 58, 12, 111, 130, 17] [398, 339, 65, 594, 633, 92, 80, 67, 17, 117, 156, 20, 100, 79, 16, 144, 124, 19]\n",
      "\n",
      "defaultdict(<class 'int'>, {'wear': 2228, 'not_wear': 405, 'incor': 427}) defaultdict(<class 'int'>, {'wear': 2121, 'not_wear': 482, 'incor': 457})\n",
      "\n",
      "defaultdict(<class 'int'>, {'48': 51, '25': 83, '19': 454, '42': 12, '55': 107, '58': 171, '22': 73, '54': 109, '18': 229, '43': 20, '45': 27, '20': 298, '40': 18, '21': 55, '53': 74, '60': 230, '24': 56, '57': 106, '47': 14, '52': 82, '56': 143, '26': 47, '49': 46, '50': 86, '59': 99, '27': 11, '51': 75, '44': 20, '28': 34, '35': 20, '46': 17, '23': 78, '38': 14, '29': 20, '34': 17, '32': 9, '39': 7, '30': 17, '33': 6, '41': 7, '31': 3, '36': 10, '37': 5}) defaultdict(<class 'int'>, {'19': 429, '58': 180, '55': 119, '60': 229, '22': 64, '20': 299, '50': 76, '57': 127, '18': 219, '25': 94, '48': 36, '29': 22, '56': 140, '59': 96, '26': 49, '32': 9, '23': 84, '49': 28, '34': 18, '21': 41, '53': 66, '24': 76, '35': 27, '51': 72, '54': 102, '40': 20, '28': 34, '43': 15, '27': 22, '52': 98, '42': 18, '31': 3, '36': 10, '44': 18, '41': 11, '33': 6, '45': 26, '46': 21, '47': 8, '39': 7, '30': 23, '38': 17, '37': 1})\n",
      "\n",
      "defaultdict(<class 'int'>, {3060: 1392, 30: 1438, 60: 230}) defaultdict(<class 'int'>, {30: 1433, 3060: 1398, 60: 229})\n",
      "\n",
      "defaultdict(<class 'int'>, {'male': 1142, 'female': 1918}) defaultdict(<class 'int'>, {'female': 1899, 'male': 1161})\n"
     ]
    }
   ],
   "source": [
    "print(a,a2)\n",
    "print()\n",
    "print(b,b2)\n",
    "print()\n",
    "print(c,c2)\n",
    "print()\n",
    "print(d,d2)\n",
    "print()\n",
    "print(e,e2)"
   ]
  },
  {
   "cell_type": "code",
   "execution_count": 30,
   "id": "2dee5233-42fa-41d1-a1e2-3efc9d914212",
   "metadata": {},
   "outputs": [
    {
     "data": {
      "text/plain": [
       "([425,\n",
       "  324,\n",
       "  69,\n",
       "  605,\n",
       "  703,\n",
       "  102,\n",
       "  98,\n",
       "  61,\n",
       "  18,\n",
       "  122,\n",
       "  116,\n",
       "  12,\n",
       "  77,\n",
       "  58,\n",
       "  12,\n",
       "  111,\n",
       "  130,\n",
       "  17],\n",
       " defaultdict(int, {'wear': 2228, 'not_wear': 405, 'incor': 427}),\n",
       " defaultdict(int,\n",
       "             {'48': 51,\n",
       "              '25': 83,\n",
       "              '19': 454,\n",
       "              '42': 12,\n",
       "              '55': 107,\n",
       "              '58': 171,\n",
       "              '22': 73,\n",
       "              '54': 109,\n",
       "              '18': 229,\n",
       "              '43': 20,\n",
       "              '45': 27,\n",
       "              '20': 298,\n",
       "              '40': 18,\n",
       "              '21': 55,\n",
       "              '53': 74,\n",
       "              '60': 230,\n",
       "              '24': 56,\n",
       "              '57': 106,\n",
       "              '47': 14,\n",
       "              '52': 82,\n",
       "              '56': 143,\n",
       "              '26': 47,\n",
       "              '49': 46,\n",
       "              '50': 86,\n",
       "              '59': 99,\n",
       "              '27': 11,\n",
       "              '51': 75,\n",
       "              '44': 20,\n",
       "              '28': 34,\n",
       "              '35': 20,\n",
       "              '46': 17,\n",
       "              '23': 78,\n",
       "              '38': 14,\n",
       "              '29': 20,\n",
       "              '34': 17,\n",
       "              '32': 9,\n",
       "              '39': 7,\n",
       "              '30': 17,\n",
       "              '33': 6,\n",
       "              '41': 7,\n",
       "              '31': 3,\n",
       "              '36': 10,\n",
       "              '37': 5}),\n",
       " defaultdict(int, {3060: 1392, 30: 1438, 60: 230}),\n",
       " defaultdict(int, {'male': 1142, 'female': 1918}))"
      ]
     },
     "execution_count": 30,
     "metadata": {},
     "output_type": "execute_result"
    }
   ],
   "source": [
    "a,b,c,d,e"
   ]
  },
  {
   "cell_type": "code",
   "execution_count": null,
   "id": "145c8e62-02de-4e23-9e1f-75d94e22f11d",
   "metadata": {},
   "outputs": [],
   "source": []
  }
 ],
 "metadata": {
  "kernelspec": {
   "display_name": "Python 3 (ipykernel)",
   "language": "python",
   "name": "python3"
  },
  "language_info": {
   "codemirror_mode": {
    "name": "ipython",
    "version": 3
   },
   "file_extension": ".py",
   "mimetype": "text/x-python",
   "name": "python",
   "nbconvert_exporter": "python",
   "pygments_lexer": "ipython3",
   "version": "3.8.5"
  }
 },
 "nbformat": 4,
 "nbformat_minor": 5
}
